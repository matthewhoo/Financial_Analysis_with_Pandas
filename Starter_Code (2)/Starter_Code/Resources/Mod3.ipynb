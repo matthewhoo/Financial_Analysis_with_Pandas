{
 "cells": [
  {
   "cell_type": "code",
   "execution_count": 1,
   "id": "113f9ffa-e02d-4ca1-a3a7-cae08edfa2c2",
   "metadata": {},
   "outputs": [],
   "source": [
    "import pandas as pd  #We first want to import pandas so we can even start to import our csv files and turn them into pandas"
   ]
  },
  {
   "cell_type": "code",
   "execution_count": 2,
   "id": "01ca88d2-4d82-433d-ba75-2b1d4d09d773",
   "metadata": {},
   "outputs": [],
   "source": [
    "bitstamp = pd.read_csv(\"bitstamp.csv\") #this statment allows me to create a var. \"bitstamp\" that is able ot read the csv file that contains the data for bitstamp"
   ]
  },
  {
   "cell_type": "code",
   "execution_count": 3,
   "id": "b9b0ce29-4da6-49a1-ba65-ae54b24cdf7a",
   "metadata": {},
   "outputs": [
    {
     "name": "stdout",
     "output_type": "stream",
     "text": [
      "                  Timestamp      Open      High       Low      Close  \\\n",
      "0       2018-01-01 00:00:00  13681.04  13681.04  13637.93  $13646.48   \n",
      "1       2018-01-01 00:01:00  13646.48  13658.75  13610.18  $13658.75   \n",
      "2       2018-01-01 00:02:00  13616.93  13616.93  13610.06  $13610.22   \n",
      "3       2018-01-01 00:03:00  13610.27  13639.09  13610.27  $13639.09   \n",
      "4       2018-01-01 00:04:00  13635.35  13636.35  13620.00   $13620.0   \n",
      "...                     ...       ...       ...       ...        ...   \n",
      "129535  2018-03-31 23:55:00   6935.01   6939.07   6922.56   $6922.56   \n",
      "129536  2018-03-31 23:56:00   6922.02   6922.02   6918.00   $6920.32   \n",
      "129537  2018-03-31 23:57:00   6920.33   6936.42   6920.33   $6934.72   \n",
      "129538  2018-03-31 23:58:00   6927.65   6929.42   6927.65   $6927.65   \n",
      "129539  2018-03-31 23:59:00   6929.98   6929.98   6928.00   $6928.01   \n",
      "\n",
      "        BTC Volume     USD Volume  Weighted Price  \n",
      "0         3.334553   45482.128785    13639.647479  \n",
      "1         2.663188   36361.390888    13653.332816  \n",
      "2         0.084653    1152.144036    13610.136247  \n",
      "3         7.182986   97856.416478    13623.361128  \n",
      "4         1.069665   14582.660932    13632.923329  \n",
      "...            ...            ...             ...  \n",
      "129535    1.044354    7240.034602     6932.550078  \n",
      "129536    3.069539   21245.076275     6921.260233  \n",
      "129537   28.239049  195789.408220     6933.286106  \n",
      "129538    0.839507    5817.007705     6929.080007  \n",
      "129539    0.209363    1450.735763     6929.289993  \n",
      "\n",
      "[129540 rows x 8 columns]\n"
     ]
    }
   ],
   "source": [
    "print(bitstamp) #we can now print bitstamp to see that was in the bitstamp csv file and see it in a panda form"
   ]
  },
  {
   "cell_type": "code",
   "execution_count": 4,
   "id": "a739a3be-3ba6-4cdc-bf59-74fcefef0ba7",
   "metadata": {},
   "outputs": [
    {
     "name": "stdout",
     "output_type": "stream",
     "text": [
      "             Timestamp      Open      High       Low      Close  BTC Volume  \\\n",
      "0  2018-01-01 00:00:00  13681.04  13681.04  13637.93  $13646.48    3.334553   \n",
      "1  2018-01-01 00:01:00  13646.48  13658.75  13610.18  $13658.75    2.663188   \n",
      "2  2018-01-01 00:02:00  13616.93  13616.93  13610.06  $13610.22    0.084653   \n",
      "3  2018-01-01 00:03:00  13610.27  13639.09  13610.27  $13639.09    7.182986   \n",
      "4  2018-01-01 00:04:00  13635.35  13636.35  13620.00   $13620.0    1.069665   \n",
      "\n",
      "     USD Volume  Weighted Price  \n",
      "0  45482.128785    13639.647479  \n",
      "1  36361.390888    13653.332816  \n",
      "2   1152.144036    13610.136247  \n",
      "3  97856.416478    13623.361128  \n",
      "4  14582.660932    13632.923329  \n"
     ]
    }
   ],
   "source": [
    "print(bitstamp.head(5))  #using the .head function allows me to read to what ever variable I want to see starting from the beginning"
   ]
  },
  {
   "cell_type": "code",
   "execution_count": 5,
   "id": "b9e04306-87e0-47a3-be05-03a41049bbf9",
   "metadata": {},
   "outputs": [
    {
     "name": "stdout",
     "output_type": "stream",
     "text": [
      "                  Timestamp     Open     High      Low     Close  BTC Volume  \\\n",
      "129535  2018-03-31 23:55:00  6935.01  6939.07  6922.56  $6922.56    1.044354   \n",
      "129536  2018-03-31 23:56:00  6922.02  6922.02  6918.00  $6920.32    3.069539   \n",
      "129537  2018-03-31 23:57:00  6920.33  6936.42  6920.33  $6934.72   28.239049   \n",
      "129538  2018-03-31 23:58:00  6927.65  6929.42  6927.65  $6927.65    0.839507   \n",
      "129539  2018-03-31 23:59:00  6929.98  6929.98  6928.00  $6928.01    0.209363   \n",
      "\n",
      "           USD Volume  Weighted Price  \n",
      "129535    7240.034602     6932.550078  \n",
      "129536   21245.076275     6921.260233  \n",
      "129537  195789.408220     6933.286106  \n",
      "129538    5817.007705     6929.080007  \n",
      "129539    1450.735763     6929.289993  \n"
     ]
    }
   ],
   "source": [
    "print(bitstamp.tail(5))  #using the .tail funciton will allow me to read how ever many variables I want starting from the back of the csv file"
   ]
  },
  {
   "cell_type": "code",
   "execution_count": 6,
   "id": "5bfee6a1-5bd9-4125-beae-ea7100e700a8",
   "metadata": {},
   "outputs": [],
   "source": [
    "coinbase = pd.read_csv(\"coinbase.csv\")  #this statment allows me to create a var. \"coinbase\" that is able ot read the csv file that contains the data for coinbase"
   ]
  },
  {
   "cell_type": "code",
   "execution_count": 7,
   "id": "bb72a4a2-2432-4c89-beeb-bfbd78c3d685",
   "metadata": {},
   "outputs": [
    {
     "name": "stdout",
     "output_type": "stream",
     "text": [
      "                  Timestamp      Open      High       Low      Close  \\\n",
      "0       2018-01-01 00:00:00  13620.00  13620.00  13608.49  $13608.49   \n",
      "1       2018-01-01 00:01:00  13607.14  13607.14  13601.66  $13601.66   \n",
      "2       2018-01-01 00:02:00  13601.44  13601.44  13580.00   $13580.0   \n",
      "3       2018-01-01 00:03:00  13587.31  13587.31  13542.70  $13550.34   \n",
      "4       2018-01-01 00:04:00  13550.34  13585.95  13550.34  $13583.44   \n",
      "...                     ...       ...       ...       ...        ...   \n",
      "129535  2018-03-31 23:55:00   6945.20   6948.06   6930.00    $6930.0   \n",
      "129536  2018-03-31 23:56:00   6930.00   6930.01   6930.00   $6930.01   \n",
      "129537  2018-03-31 23:57:00   6930.01   6933.91   6930.01   $6933.91   \n",
      "129538  2018-03-31 23:58:00   6933.91   6938.00   6933.90   $6937.31   \n",
      "129539  2018-03-31 23:59:00   6937.30   6937.30   6931.09    $6934.0   \n",
      "\n",
      "        BTC Volume     USD Volume  Weighted Price  \n",
      "0        20.812754  283451.085370    13619.105106  \n",
      "1        13.474359  183283.978010    13602.426919  \n",
      "2        11.536360  156789.196860    13590.872506  \n",
      "3        16.328039  221413.641820    13560.332806  \n",
      "4         9.955364  135141.269440    13574.719401  \n",
      "...            ...            ...             ...  \n",
      "129535    5.802288   40243.918480     6935.869979  \n",
      "129536    0.625053    4331.620701     6930.005567  \n",
      "129537    0.776431    5382.532162     6932.405747  \n",
      "129538    0.133413     925.356547     6936.048538  \n",
      "129539    1.012720    7022.275088     6934.070316  \n",
      "\n",
      "[129540 rows x 8 columns]\n"
     ]
    }
   ],
   "source": [
    "print(coinbase) #we can now print coinbase to see that was in the bitstamp csv file and see it in a panda form"
   ]
  },
  {
   "cell_type": "code",
   "execution_count": 8,
   "id": "5ca9ab55-283c-4b1d-aa1b-8fe80e95cfeb",
   "metadata": {},
   "outputs": [
    {
     "name": "stdout",
     "output_type": "stream",
     "text": [
      "             Timestamp      Open      High       Low      Close  BTC Volume  \\\n",
      "0  2018-01-01 00:00:00  13620.00  13620.00  13608.49  $13608.49   20.812754   \n",
      "1  2018-01-01 00:01:00  13607.14  13607.14  13601.66  $13601.66   13.474359   \n",
      "2  2018-01-01 00:02:00  13601.44  13601.44  13580.00   $13580.0   11.536360   \n",
      "3  2018-01-01 00:03:00  13587.31  13587.31  13542.70  $13550.34   16.328039   \n",
      "4  2018-01-01 00:04:00  13550.34  13585.95  13550.34  $13583.44    9.955364   \n",
      "\n",
      "     USD Volume  Weighted Price  \n",
      "0  283451.08537    13619.105106  \n",
      "1  183283.97801    13602.426919  \n",
      "2  156789.19686    13590.872506  \n",
      "3  221413.64182    13560.332806  \n",
      "4  135141.26944    13574.719401  \n"
     ]
    }
   ],
   "source": [
    "print(coinbase.head(5))  #using the .head function to 5, it allows me to read the first 5 variables starting from the beginning of the csv file"
   ]
  },
  {
   "cell_type": "code",
   "execution_count": 9,
   "id": "1808836d-fb29-47e6-b137-0a553a7055f0",
   "metadata": {},
   "outputs": [
    {
     "name": "stdout",
     "output_type": "stream",
     "text": [
      "                  Timestamp     Open     High      Low     Close  BTC Volume  \\\n",
      "129535  2018-03-31 23:55:00  6945.20  6948.06  6930.00   $6930.0    5.802288   \n",
      "129536  2018-03-31 23:56:00  6930.00  6930.01  6930.00  $6930.01    0.625053   \n",
      "129537  2018-03-31 23:57:00  6930.01  6933.91  6930.01  $6933.91    0.776431   \n",
      "129538  2018-03-31 23:58:00  6933.91  6938.00  6933.90  $6937.31    0.133413   \n",
      "129539  2018-03-31 23:59:00  6937.30  6937.30  6931.09   $6934.0    1.012720   \n",
      "\n",
      "          USD Volume  Weighted Price  \n",
      "129535  40243.918480     6935.869979  \n",
      "129536   4331.620701     6930.005567  \n",
      "129537   5382.532162     6932.405747  \n",
      "129538    925.356547     6936.048538  \n",
      "129539   7022.275088     6934.070316  \n"
     ]
    }
   ],
   "source": [
    "print(coinbase.tail(5))  ##using the .tail funciton to 5, it will allow me to read the last 5 variables starting from the back of the csv file"
   ]
  },
  {
   "cell_type": "code",
   "execution_count": 10,
   "id": "a23b1f9a-22ba-4675-9806-4010f41a95ed",
   "metadata": {},
   "outputs": [
    {
     "name": "stderr",
     "output_type": "stream",
     "text": [
      "C:\\Users\\jat85\\AppData\\Local\\Temp\\ipykernel_14648\\780112341.py:1: FutureWarning: In a future version of pandas all arguments of DataFrame.dropna will be keyword-only.\n",
      "  bitstamp.dropna(0)\n"
     ]
    },
    {
     "data": {
      "text/html": [
       "<div>\n",
       "<style scoped>\n",
       "    .dataframe tbody tr th:only-of-type {\n",
       "        vertical-align: middle;\n",
       "    }\n",
       "\n",
       "    .dataframe tbody tr th {\n",
       "        vertical-align: top;\n",
       "    }\n",
       "\n",
       "    .dataframe thead th {\n",
       "        text-align: right;\n",
       "    }\n",
       "</style>\n",
       "<table border=\"1\" class=\"dataframe\">\n",
       "  <thead>\n",
       "    <tr style=\"text-align: right;\">\n",
       "      <th></th>\n",
       "      <th>Timestamp</th>\n",
       "      <th>Open</th>\n",
       "      <th>High</th>\n",
       "      <th>Low</th>\n",
       "      <th>Close</th>\n",
       "      <th>BTC Volume</th>\n",
       "      <th>USD Volume</th>\n",
       "      <th>Weighted Price</th>\n",
       "    </tr>\n",
       "  </thead>\n",
       "  <tbody>\n",
       "    <tr>\n",
       "      <th>0</th>\n",
       "      <td>2018-01-01 00:00:00</td>\n",
       "      <td>13681.04</td>\n",
       "      <td>13681.04</td>\n",
       "      <td>13637.93</td>\n",
       "      <td>$13646.48</td>\n",
       "      <td>3.334553</td>\n",
       "      <td>45482.128785</td>\n",
       "      <td>13639.647479</td>\n",
       "    </tr>\n",
       "    <tr>\n",
       "      <th>1</th>\n",
       "      <td>2018-01-01 00:01:00</td>\n",
       "      <td>13646.48</td>\n",
       "      <td>13658.75</td>\n",
       "      <td>13610.18</td>\n",
       "      <td>$13658.75</td>\n",
       "      <td>2.663188</td>\n",
       "      <td>36361.390888</td>\n",
       "      <td>13653.332816</td>\n",
       "    </tr>\n",
       "    <tr>\n",
       "      <th>2</th>\n",
       "      <td>2018-01-01 00:02:00</td>\n",
       "      <td>13616.93</td>\n",
       "      <td>13616.93</td>\n",
       "      <td>13610.06</td>\n",
       "      <td>$13610.22</td>\n",
       "      <td>0.084653</td>\n",
       "      <td>1152.144036</td>\n",
       "      <td>13610.136247</td>\n",
       "    </tr>\n",
       "    <tr>\n",
       "      <th>3</th>\n",
       "      <td>2018-01-01 00:03:00</td>\n",
       "      <td>13610.27</td>\n",
       "      <td>13639.09</td>\n",
       "      <td>13610.27</td>\n",
       "      <td>$13639.09</td>\n",
       "      <td>7.182986</td>\n",
       "      <td>97856.416478</td>\n",
       "      <td>13623.361128</td>\n",
       "    </tr>\n",
       "    <tr>\n",
       "      <th>4</th>\n",
       "      <td>2018-01-01 00:04:00</td>\n",
       "      <td>13635.35</td>\n",
       "      <td>13636.35</td>\n",
       "      <td>13620.00</td>\n",
       "      <td>$13620.0</td>\n",
       "      <td>1.069665</td>\n",
       "      <td>14582.660932</td>\n",
       "      <td>13632.923329</td>\n",
       "    </tr>\n",
       "    <tr>\n",
       "      <th>...</th>\n",
       "      <td>...</td>\n",
       "      <td>...</td>\n",
       "      <td>...</td>\n",
       "      <td>...</td>\n",
       "      <td>...</td>\n",
       "      <td>...</td>\n",
       "      <td>...</td>\n",
       "      <td>...</td>\n",
       "    </tr>\n",
       "    <tr>\n",
       "      <th>129535</th>\n",
       "      <td>2018-03-31 23:55:00</td>\n",
       "      <td>6935.01</td>\n",
       "      <td>6939.07</td>\n",
       "      <td>6922.56</td>\n",
       "      <td>$6922.56</td>\n",
       "      <td>1.044354</td>\n",
       "      <td>7240.034602</td>\n",
       "      <td>6932.550078</td>\n",
       "    </tr>\n",
       "    <tr>\n",
       "      <th>129536</th>\n",
       "      <td>2018-03-31 23:56:00</td>\n",
       "      <td>6922.02</td>\n",
       "      <td>6922.02</td>\n",
       "      <td>6918.00</td>\n",
       "      <td>$6920.32</td>\n",
       "      <td>3.069539</td>\n",
       "      <td>21245.076275</td>\n",
       "      <td>6921.260233</td>\n",
       "    </tr>\n",
       "    <tr>\n",
       "      <th>129537</th>\n",
       "      <td>2018-03-31 23:57:00</td>\n",
       "      <td>6920.33</td>\n",
       "      <td>6936.42</td>\n",
       "      <td>6920.33</td>\n",
       "      <td>$6934.72</td>\n",
       "      <td>28.239049</td>\n",
       "      <td>195789.408220</td>\n",
       "      <td>6933.286106</td>\n",
       "    </tr>\n",
       "    <tr>\n",
       "      <th>129538</th>\n",
       "      <td>2018-03-31 23:58:00</td>\n",
       "      <td>6927.65</td>\n",
       "      <td>6929.42</td>\n",
       "      <td>6927.65</td>\n",
       "      <td>$6927.65</td>\n",
       "      <td>0.839507</td>\n",
       "      <td>5817.007705</td>\n",
       "      <td>6929.080007</td>\n",
       "    </tr>\n",
       "    <tr>\n",
       "      <th>129539</th>\n",
       "      <td>2018-03-31 23:59:00</td>\n",
       "      <td>6929.98</td>\n",
       "      <td>6929.98</td>\n",
       "      <td>6928.00</td>\n",
       "      <td>$6928.01</td>\n",
       "      <td>0.209363</td>\n",
       "      <td>1450.735763</td>\n",
       "      <td>6929.289993</td>\n",
       "    </tr>\n",
       "  </tbody>\n",
       "</table>\n",
       "<p>129067 rows × 8 columns</p>\n",
       "</div>"
      ],
      "text/plain": [
       "                  Timestamp      Open      High       Low      Close  \\\n",
       "0       2018-01-01 00:00:00  13681.04  13681.04  13637.93  $13646.48   \n",
       "1       2018-01-01 00:01:00  13646.48  13658.75  13610.18  $13658.75   \n",
       "2       2018-01-01 00:02:00  13616.93  13616.93  13610.06  $13610.22   \n",
       "3       2018-01-01 00:03:00  13610.27  13639.09  13610.27  $13639.09   \n",
       "4       2018-01-01 00:04:00  13635.35  13636.35  13620.00   $13620.0   \n",
       "...                     ...       ...       ...       ...        ...   \n",
       "129535  2018-03-31 23:55:00   6935.01   6939.07   6922.56   $6922.56   \n",
       "129536  2018-03-31 23:56:00   6922.02   6922.02   6918.00   $6920.32   \n",
       "129537  2018-03-31 23:57:00   6920.33   6936.42   6920.33   $6934.72   \n",
       "129538  2018-03-31 23:58:00   6927.65   6929.42   6927.65   $6927.65   \n",
       "129539  2018-03-31 23:59:00   6929.98   6929.98   6928.00   $6928.01   \n",
       "\n",
       "        BTC Volume     USD Volume  Weighted Price  \n",
       "0         3.334553   45482.128785    13639.647479  \n",
       "1         2.663188   36361.390888    13653.332816  \n",
       "2         0.084653    1152.144036    13610.136247  \n",
       "3         7.182986   97856.416478    13623.361128  \n",
       "4         1.069665   14582.660932    13632.923329  \n",
       "...            ...            ...             ...  \n",
       "129535    1.044354    7240.034602     6932.550078  \n",
       "129536    3.069539   21245.076275     6921.260233  \n",
       "129537   28.239049  195789.408220     6933.286106  \n",
       "129538    0.839507    5817.007705     6929.080007  \n",
       "129539    0.209363    1450.735763     6929.289993  \n",
       "\n",
       "[129067 rows x 8 columns]"
      ]
     },
     "execution_count": 10,
     "metadata": {},
     "output_type": "execute_result"
    }
   ],
   "source": [
    "bitstamp.dropna(0) #this function will drop all missing values in the dataframe of bitstamp"
   ]
  },
  {
   "cell_type": "code",
   "execution_count": 11,
   "id": "114b83e7-b52a-4aa9-9851-f3dc073a4b4b",
   "metadata": {},
   "outputs": [
    {
     "name": "stderr",
     "output_type": "stream",
     "text": [
      "C:\\Users\\jat85\\AppData\\Local\\Temp\\ipykernel_14648\\2416903406.py:1: FutureWarning: The default value of regex will change from True to False in a future version. In addition, single character regular expressions will *not* be treated as literal strings when regex=True.\n",
      "  bitstamp[\"Close\"] = bitstamp[\"Close\"].str.replace(\"$\" , \"\")\n"
     ]
    }
   ],
   "source": [
    "bitstamp[\"Close\"] = bitstamp[\"Close\"].str.replace(\"$\" , \"\")   #Using str.replace, we are able to replace all \"$\" signs and just remove that symbol"
   ]
  },
  {
   "cell_type": "code",
   "execution_count": 12,
   "id": "5e40cc42-2ac2-45b6-9f28-b43ef144c72e",
   "metadata": {},
   "outputs": [
    {
     "ename": "AttributeError",
     "evalue": "'DataFrame' object has no attribute 'to_numeric'",
     "output_type": "error",
     "traceback": [
      "\u001b[1;31m---------------------------------------------------------------------------\u001b[0m",
      "\u001b[1;31mAttributeError\u001b[0m                            Traceback (most recent call last)",
      "\u001b[1;32m~\\AppData\\Local\\Temp\\ipykernel_14648\\203457713.py\u001b[0m in \u001b[0;36m<cell line: 1>\u001b[1;34m()\u001b[0m\n\u001b[1;32m----> 1\u001b[1;33m \u001b[0mbitstamp\u001b[0m\u001b[1;33m[\u001b[0m\u001b[1;34m\"Close\"\u001b[0m\u001b[1;33m]\u001b[0m \u001b[1;33m=\u001b[0m \u001b[0mbitstamp\u001b[0m\u001b[1;33m.\u001b[0m\u001b[0mto_numeric\u001b[0m\u001b[1;33m(\u001b[0m\u001b[0mbitstamp\u001b[0m\u001b[1;33m[\u001b[0m\u001b[1;34m\"Close\"\u001b[0m\u001b[1;33m]\u001b[0m\u001b[1;33m)\u001b[0m\u001b[1;33m\u001b[0m\u001b[1;33m\u001b[0m\u001b[0m\n\u001b[0m",
      "\u001b[1;32m~\\anaconda3\\envs\\dev\\lib\\site-packages\\pandas\\core\\generic.py\u001b[0m in \u001b[0;36m__getattr__\u001b[1;34m(self, name)\u001b[0m\n\u001b[0;32m   5573\u001b[0m         ):\n\u001b[0;32m   5574\u001b[0m             \u001b[1;32mreturn\u001b[0m \u001b[0mself\u001b[0m\u001b[1;33m[\u001b[0m\u001b[0mname\u001b[0m\u001b[1;33m]\u001b[0m\u001b[1;33m\u001b[0m\u001b[1;33m\u001b[0m\u001b[0m\n\u001b[1;32m-> 5575\u001b[1;33m         \u001b[1;32mreturn\u001b[0m \u001b[0mobject\u001b[0m\u001b[1;33m.\u001b[0m\u001b[0m__getattribute__\u001b[0m\u001b[1;33m(\u001b[0m\u001b[0mself\u001b[0m\u001b[1;33m,\u001b[0m \u001b[0mname\u001b[0m\u001b[1;33m)\u001b[0m\u001b[1;33m\u001b[0m\u001b[1;33m\u001b[0m\u001b[0m\n\u001b[0m\u001b[0;32m   5576\u001b[0m \u001b[1;33m\u001b[0m\u001b[0m\n\u001b[0;32m   5577\u001b[0m     \u001b[1;32mdef\u001b[0m \u001b[0m__setattr__\u001b[0m\u001b[1;33m(\u001b[0m\u001b[0mself\u001b[0m\u001b[1;33m,\u001b[0m \u001b[0mname\u001b[0m\u001b[1;33m:\u001b[0m \u001b[0mstr\u001b[0m\u001b[1;33m,\u001b[0m \u001b[0mvalue\u001b[0m\u001b[1;33m)\u001b[0m \u001b[1;33m->\u001b[0m \u001b[1;32mNone\u001b[0m\u001b[1;33m:\u001b[0m\u001b[1;33m\u001b[0m\u001b[1;33m\u001b[0m\u001b[0m\n",
      "\u001b[1;31mAttributeError\u001b[0m: 'DataFrame' object has no attribute 'to_numeric'"
     ]
    }
   ],
   "source": [
    "bitstamp[\"Close\"] = bitstamp.to_numeric(bitstamp[\"Close\"]) #the to_numeric will turn all our variables from Close to be turned into a float value"
   ]
  },
  {
   "cell_type": "code",
   "execution_count": 13,
   "id": "ebbf8d02-7c58-4d65-990f-6f1c78f59e7d",
   "metadata": {},
   "outputs": [
    {
     "name": "stdout",
     "output_type": "stream",
     "text": [
      "                  Timestamp      Open      High       Low     Close  \\\n",
      "0       2018-01-01 00:00:00  13681.04  13681.04  13637.93  13646.48   \n",
      "1       2018-01-01 00:01:00  13646.48  13658.75  13610.18  13658.75   \n",
      "2       2018-01-01 00:02:00  13616.93  13616.93  13610.06  13610.22   \n",
      "3       2018-01-01 00:03:00  13610.27  13639.09  13610.27  13639.09   \n",
      "4       2018-01-01 00:04:00  13635.35  13636.35  13620.00   13620.0   \n",
      "...                     ...       ...       ...       ...       ...   \n",
      "129535  2018-03-31 23:55:00   6935.01   6939.07   6922.56   6922.56   \n",
      "129536  2018-03-31 23:56:00   6922.02   6922.02   6918.00   6920.32   \n",
      "129537  2018-03-31 23:57:00   6920.33   6936.42   6920.33   6934.72   \n",
      "129538  2018-03-31 23:58:00   6927.65   6929.42   6927.65   6927.65   \n",
      "129539  2018-03-31 23:59:00   6929.98   6929.98   6928.00   6928.01   \n",
      "\n",
      "        BTC Volume     USD Volume  Weighted Price  \n",
      "0         3.334553   45482.128785    13639.647479  \n",
      "1         2.663188   36361.390888    13653.332816  \n",
      "2         0.084653    1152.144036    13610.136247  \n",
      "3         7.182986   97856.416478    13623.361128  \n",
      "4         1.069665   14582.660932    13632.923329  \n",
      "...            ...            ...             ...  \n",
      "129535    1.044354    7240.034602     6932.550078  \n",
      "129536    3.069539   21245.076275     6921.260233  \n",
      "129537   28.239049  195789.408220     6933.286106  \n",
      "129538    0.839507    5817.007705     6929.080007  \n",
      "129539    0.209363    1450.735763     6929.289993  \n",
      "\n",
      "[129540 rows x 8 columns]\n"
     ]
    }
   ],
   "source": [
    "print(bitstamp) #we can now see the changes we made"
   ]
  },
  {
   "cell_type": "code",
   "execution_count": 14,
   "id": "c812e97f-a83a-431a-87e2-091951648d48",
   "metadata": {},
   "outputs": [
    {
     "name": "stderr",
     "output_type": "stream",
     "text": [
      "C:\\Users\\jat85\\AppData\\Local\\Temp\\ipykernel_14648\\4052134921.py:1: FutureWarning: In a future version of pandas all arguments of DataFrame.dropna will be keyword-only.\n",
      "  coinbase.dropna(0)\n"
     ]
    },
    {
     "data": {
      "text/html": [
       "<div>\n",
       "<style scoped>\n",
       "    .dataframe tbody tr th:only-of-type {\n",
       "        vertical-align: middle;\n",
       "    }\n",
       "\n",
       "    .dataframe tbody tr th {\n",
       "        vertical-align: top;\n",
       "    }\n",
       "\n",
       "    .dataframe thead th {\n",
       "        text-align: right;\n",
       "    }\n",
       "</style>\n",
       "<table border=\"1\" class=\"dataframe\">\n",
       "  <thead>\n",
       "    <tr style=\"text-align: right;\">\n",
       "      <th></th>\n",
       "      <th>Timestamp</th>\n",
       "      <th>Open</th>\n",
       "      <th>High</th>\n",
       "      <th>Low</th>\n",
       "      <th>Close</th>\n",
       "      <th>BTC Volume</th>\n",
       "      <th>USD Volume</th>\n",
       "      <th>Weighted Price</th>\n",
       "    </tr>\n",
       "  </thead>\n",
       "  <tbody>\n",
       "    <tr>\n",
       "      <th>0</th>\n",
       "      <td>2018-01-01 00:00:00</td>\n",
       "      <td>13620.00</td>\n",
       "      <td>13620.00</td>\n",
       "      <td>13608.49</td>\n",
       "      <td>$13608.49</td>\n",
       "      <td>20.812754</td>\n",
       "      <td>283451.085370</td>\n",
       "      <td>13619.105106</td>\n",
       "    </tr>\n",
       "    <tr>\n",
       "      <th>1</th>\n",
       "      <td>2018-01-01 00:01:00</td>\n",
       "      <td>13607.14</td>\n",
       "      <td>13607.14</td>\n",
       "      <td>13601.66</td>\n",
       "      <td>$13601.66</td>\n",
       "      <td>13.474359</td>\n",
       "      <td>183283.978010</td>\n",
       "      <td>13602.426919</td>\n",
       "    </tr>\n",
       "    <tr>\n",
       "      <th>2</th>\n",
       "      <td>2018-01-01 00:02:00</td>\n",
       "      <td>13601.44</td>\n",
       "      <td>13601.44</td>\n",
       "      <td>13580.00</td>\n",
       "      <td>$13580.0</td>\n",
       "      <td>11.536360</td>\n",
       "      <td>156789.196860</td>\n",
       "      <td>13590.872506</td>\n",
       "    </tr>\n",
       "    <tr>\n",
       "      <th>3</th>\n",
       "      <td>2018-01-01 00:03:00</td>\n",
       "      <td>13587.31</td>\n",
       "      <td>13587.31</td>\n",
       "      <td>13542.70</td>\n",
       "      <td>$13550.34</td>\n",
       "      <td>16.328039</td>\n",
       "      <td>221413.641820</td>\n",
       "      <td>13560.332806</td>\n",
       "    </tr>\n",
       "    <tr>\n",
       "      <th>4</th>\n",
       "      <td>2018-01-01 00:04:00</td>\n",
       "      <td>13550.34</td>\n",
       "      <td>13585.95</td>\n",
       "      <td>13550.34</td>\n",
       "      <td>$13583.44</td>\n",
       "      <td>9.955364</td>\n",
       "      <td>135141.269440</td>\n",
       "      <td>13574.719401</td>\n",
       "    </tr>\n",
       "    <tr>\n",
       "      <th>...</th>\n",
       "      <td>...</td>\n",
       "      <td>...</td>\n",
       "      <td>...</td>\n",
       "      <td>...</td>\n",
       "      <td>...</td>\n",
       "      <td>...</td>\n",
       "      <td>...</td>\n",
       "      <td>...</td>\n",
       "    </tr>\n",
       "    <tr>\n",
       "      <th>129535</th>\n",
       "      <td>2018-03-31 23:55:00</td>\n",
       "      <td>6945.20</td>\n",
       "      <td>6948.06</td>\n",
       "      <td>6930.00</td>\n",
       "      <td>$6930.0</td>\n",
       "      <td>5.802288</td>\n",
       "      <td>40243.918480</td>\n",
       "      <td>6935.869979</td>\n",
       "    </tr>\n",
       "    <tr>\n",
       "      <th>129536</th>\n",
       "      <td>2018-03-31 23:56:00</td>\n",
       "      <td>6930.00</td>\n",
       "      <td>6930.01</td>\n",
       "      <td>6930.00</td>\n",
       "      <td>$6930.01</td>\n",
       "      <td>0.625053</td>\n",
       "      <td>4331.620701</td>\n",
       "      <td>6930.005567</td>\n",
       "    </tr>\n",
       "    <tr>\n",
       "      <th>129537</th>\n",
       "      <td>2018-03-31 23:57:00</td>\n",
       "      <td>6930.01</td>\n",
       "      <td>6933.91</td>\n",
       "      <td>6930.01</td>\n",
       "      <td>$6933.91</td>\n",
       "      <td>0.776431</td>\n",
       "      <td>5382.532162</td>\n",
       "      <td>6932.405747</td>\n",
       "    </tr>\n",
       "    <tr>\n",
       "      <th>129538</th>\n",
       "      <td>2018-03-31 23:58:00</td>\n",
       "      <td>6933.91</td>\n",
       "      <td>6938.00</td>\n",
       "      <td>6933.90</td>\n",
       "      <td>$6937.31</td>\n",
       "      <td>0.133413</td>\n",
       "      <td>925.356547</td>\n",
       "      <td>6936.048538</td>\n",
       "    </tr>\n",
       "    <tr>\n",
       "      <th>129539</th>\n",
       "      <td>2018-03-31 23:59:00</td>\n",
       "      <td>6937.30</td>\n",
       "      <td>6937.30</td>\n",
       "      <td>6931.09</td>\n",
       "      <td>$6934.0</td>\n",
       "      <td>1.012720</td>\n",
       "      <td>7022.275088</td>\n",
       "      <td>6934.070316</td>\n",
       "    </tr>\n",
       "  </tbody>\n",
       "</table>\n",
       "<p>129322 rows × 8 columns</p>\n",
       "</div>"
      ],
      "text/plain": [
       "                  Timestamp      Open      High       Low      Close  \\\n",
       "0       2018-01-01 00:00:00  13620.00  13620.00  13608.49  $13608.49   \n",
       "1       2018-01-01 00:01:00  13607.14  13607.14  13601.66  $13601.66   \n",
       "2       2018-01-01 00:02:00  13601.44  13601.44  13580.00   $13580.0   \n",
       "3       2018-01-01 00:03:00  13587.31  13587.31  13542.70  $13550.34   \n",
       "4       2018-01-01 00:04:00  13550.34  13585.95  13550.34  $13583.44   \n",
       "...                     ...       ...       ...       ...        ...   \n",
       "129535  2018-03-31 23:55:00   6945.20   6948.06   6930.00    $6930.0   \n",
       "129536  2018-03-31 23:56:00   6930.00   6930.01   6930.00   $6930.01   \n",
       "129537  2018-03-31 23:57:00   6930.01   6933.91   6930.01   $6933.91   \n",
       "129538  2018-03-31 23:58:00   6933.91   6938.00   6933.90   $6937.31   \n",
       "129539  2018-03-31 23:59:00   6937.30   6937.30   6931.09    $6934.0   \n",
       "\n",
       "        BTC Volume     USD Volume  Weighted Price  \n",
       "0        20.812754  283451.085370    13619.105106  \n",
       "1        13.474359  183283.978010    13602.426919  \n",
       "2        11.536360  156789.196860    13590.872506  \n",
       "3        16.328039  221413.641820    13560.332806  \n",
       "4         9.955364  135141.269440    13574.719401  \n",
       "...            ...            ...             ...  \n",
       "129535    5.802288   40243.918480     6935.869979  \n",
       "129536    0.625053    4331.620701     6930.005567  \n",
       "129537    0.776431    5382.532162     6932.405747  \n",
       "129538    0.133413     925.356547     6936.048538  \n",
       "129539    1.012720    7022.275088     6934.070316  \n",
       "\n",
       "[129322 rows x 8 columns]"
      ]
     },
     "execution_count": 14,
     "metadata": {},
     "output_type": "execute_result"
    }
   ],
   "source": [
    "coinbase.dropna(0) #this function will drop all missing values in the dataframe of coinbase"
   ]
  },
  {
   "cell_type": "code",
   "execution_count": 15,
   "id": "5068faf2-4716-4c70-8ace-601148abf578",
   "metadata": {},
   "outputs": [
    {
     "name": "stderr",
     "output_type": "stream",
     "text": [
      "C:\\Users\\jat85\\AppData\\Local\\Temp\\ipykernel_14648\\4251002946.py:1: FutureWarning: The default value of regex will change from True to False in a future version. In addition, single character regular expressions will *not* be treated as literal strings when regex=True.\n",
      "  coinbase[\"Close\"] = coinbase[\"Close\"].str.replace(\"$\" , \"\")\n"
     ]
    }
   ],
   "source": [
    "coinbase[\"Close\"] = coinbase[\"Close\"].str.replace(\"$\" , \"\") #Using str.replace, we are able to replace all \"$\" signs and just remove that symbol in coinbase"
   ]
  },
  {
   "cell_type": "code",
   "execution_count": 16,
   "id": "6083380a-fbef-4b78-aa53-0c6776adb9a2",
   "metadata": {},
   "outputs": [
    {
     "ename": "AttributeError",
     "evalue": "'DataFrame' object has no attribute 'to_numeric'",
     "output_type": "error",
     "traceback": [
      "\u001b[1;31m---------------------------------------------------------------------------\u001b[0m",
      "\u001b[1;31mAttributeError\u001b[0m                            Traceback (most recent call last)",
      "\u001b[1;32m~\\AppData\\Local\\Temp\\ipykernel_14648\\3107644324.py\u001b[0m in \u001b[0;36m<cell line: 1>\u001b[1;34m()\u001b[0m\n\u001b[1;32m----> 1\u001b[1;33m \u001b[0mcoinbase\u001b[0m\u001b[1;33m[\u001b[0m\u001b[1;34m\"Close\"\u001b[0m\u001b[1;33m]\u001b[0m \u001b[1;33m=\u001b[0m \u001b[0mcoinbase\u001b[0m\u001b[1;33m.\u001b[0m\u001b[0mto_numeric\u001b[0m\u001b[1;33m(\u001b[0m\u001b[0mcoinbase\u001b[0m\u001b[1;33m[\u001b[0m\u001b[1;34m\"Close\"\u001b[0m\u001b[1;33m]\u001b[0m\u001b[1;33m)\u001b[0m\u001b[1;33m\u001b[0m\u001b[1;33m\u001b[0m\u001b[0m\n\u001b[0m",
      "\u001b[1;32m~\\anaconda3\\envs\\dev\\lib\\site-packages\\pandas\\core\\generic.py\u001b[0m in \u001b[0;36m__getattr__\u001b[1;34m(self, name)\u001b[0m\n\u001b[0;32m   5573\u001b[0m         ):\n\u001b[0;32m   5574\u001b[0m             \u001b[1;32mreturn\u001b[0m \u001b[0mself\u001b[0m\u001b[1;33m[\u001b[0m\u001b[0mname\u001b[0m\u001b[1;33m]\u001b[0m\u001b[1;33m\u001b[0m\u001b[1;33m\u001b[0m\u001b[0m\n\u001b[1;32m-> 5575\u001b[1;33m         \u001b[1;32mreturn\u001b[0m \u001b[0mobject\u001b[0m\u001b[1;33m.\u001b[0m\u001b[0m__getattribute__\u001b[0m\u001b[1;33m(\u001b[0m\u001b[0mself\u001b[0m\u001b[1;33m,\u001b[0m \u001b[0mname\u001b[0m\u001b[1;33m)\u001b[0m\u001b[1;33m\u001b[0m\u001b[1;33m\u001b[0m\u001b[0m\n\u001b[0m\u001b[0;32m   5576\u001b[0m \u001b[1;33m\u001b[0m\u001b[0m\n\u001b[0;32m   5577\u001b[0m     \u001b[1;32mdef\u001b[0m \u001b[0m__setattr__\u001b[0m\u001b[1;33m(\u001b[0m\u001b[0mself\u001b[0m\u001b[1;33m,\u001b[0m \u001b[0mname\u001b[0m\u001b[1;33m:\u001b[0m \u001b[0mstr\u001b[0m\u001b[1;33m,\u001b[0m \u001b[0mvalue\u001b[0m\u001b[1;33m)\u001b[0m \u001b[1;33m->\u001b[0m \u001b[1;32mNone\u001b[0m\u001b[1;33m:\u001b[0m\u001b[1;33m\u001b[0m\u001b[1;33m\u001b[0m\u001b[0m\n",
      "\u001b[1;31mAttributeError\u001b[0m: 'DataFrame' object has no attribute 'to_numeric'"
     ]
    }
   ],
   "source": [
    "coinbase[\"Close\"] = coinbase.to_numeric(coinbase[\"Close\"]) #the to_numeric will turn all our variables from Close to be turned into a float value in coinbase"
   ]
  },
  {
   "cell_type": "code",
   "execution_count": 17,
   "id": "61bb3f1a-44b7-4d9f-b844-bc215e303a89",
   "metadata": {},
   "outputs": [
    {
     "name": "stdout",
     "output_type": "stream",
     "text": [
      "                  Timestamp      Open      High       Low     Close  \\\n",
      "0       2018-01-01 00:00:00  13620.00  13620.00  13608.49  13608.49   \n",
      "1       2018-01-01 00:01:00  13607.14  13607.14  13601.66  13601.66   \n",
      "2       2018-01-01 00:02:00  13601.44  13601.44  13580.00   13580.0   \n",
      "3       2018-01-01 00:03:00  13587.31  13587.31  13542.70  13550.34   \n",
      "4       2018-01-01 00:04:00  13550.34  13585.95  13550.34  13583.44   \n",
      "...                     ...       ...       ...       ...       ...   \n",
      "129535  2018-03-31 23:55:00   6945.20   6948.06   6930.00    6930.0   \n",
      "129536  2018-03-31 23:56:00   6930.00   6930.01   6930.00   6930.01   \n",
      "129537  2018-03-31 23:57:00   6930.01   6933.91   6930.01   6933.91   \n",
      "129538  2018-03-31 23:58:00   6933.91   6938.00   6933.90   6937.31   \n",
      "129539  2018-03-31 23:59:00   6937.30   6937.30   6931.09    6934.0   \n",
      "\n",
      "        BTC Volume     USD Volume  Weighted Price  \n",
      "0        20.812754  283451.085370    13619.105106  \n",
      "1        13.474359  183283.978010    13602.426919  \n",
      "2        11.536360  156789.196860    13590.872506  \n",
      "3        16.328039  221413.641820    13560.332806  \n",
      "4         9.955364  135141.269440    13574.719401  \n",
      "...            ...            ...             ...  \n",
      "129535    5.802288   40243.918480     6935.869979  \n",
      "129536    0.625053    4331.620701     6930.005567  \n",
      "129537    0.776431    5382.532162     6932.405747  \n",
      "129538    0.133413     925.356547     6936.048538  \n",
      "129539    1.012720    7022.275088     6934.070316  \n",
      "\n",
      "[129540 rows x 8 columns]\n"
     ]
    }
   ],
   "source": [
    "print(coinbase) #we can now see the changes we made for coinbase"
   ]
  },
  {
   "cell_type": "code",
   "execution_count": 18,
   "id": "bef0774f-c3cb-4a30-aaba-af1ee48b55c4",
   "metadata": {},
   "outputs": [
    {
     "name": "stdout",
     "output_type": "stream",
     "text": [
      "0         2018-01-01 00:00:00\n",
      "1         2018-01-01 00:01:00\n",
      "2         2018-01-01 00:02:00\n",
      "3         2018-01-01 00:03:00\n",
      "4         2018-01-01 00:04:00\n",
      "                 ...         \n",
      "129535    2018-03-31 23:55:00\n",
      "129536    2018-03-31 23:56:00\n",
      "129537    2018-03-31 23:57:00\n",
      "129538    2018-03-31 23:58:00\n",
      "129539    2018-03-31 23:59:00\n",
      "Name: Timestamp, Length: 129540, dtype: object\n"
     ]
    }
   ],
   "source": [
    "print(bitstamp.loc[:,\"Timestamp\"]) #using the .loc function I was able to see all the times using \":\" and only from timestamp because I was able to locate it using \"Timestamp\" after the comma"
   ]
  },
  {
   "cell_type": "code",
   "execution_count": 19,
   "id": "d72fa30e-5003-4c84-9c46-7fd1882035f7",
   "metadata": {},
   "outputs": [
    {
     "name": "stdout",
     "output_type": "stream",
     "text": [
      "             Timestamp      Open      High       Low     Close  BTC Volume  \\\n",
      "0  2018-01-01 00:00:00  13681.04  13681.04  13637.93  13646.48    3.334553   \n",
      "2  2018-01-01 00:02:00  13616.93  13616.93  13610.06  13610.22    0.084653   \n",
      "4  2018-01-01 00:04:00  13635.35  13636.35  13620.00   13620.0    1.069665   \n",
      "6  2018-01-01 00:06:00  13610.00  13650.18  13590.42  13600.56   26.432759   \n",
      "\n",
      "      USD Volume  Weighted Price  \n",
      "0   45482.128785    13639.647479  \n",
      "2    1152.144036    13610.136247  \n",
      "4   14582.660932    13632.923329  \n",
      "6  360108.155630    13623.555198  \n"
     ]
    }
   ],
   "source": [
    "print(bitstamp.iloc[[0,2,4,6]]) #using the iloc, I was able to see rows that I choose which were (0,2,4,6)"
   ]
  },
  {
   "cell_type": "code",
   "execution_count": 20,
   "id": "f93805f6-102f-451f-a8bf-148513e4c1c4",
   "metadata": {},
   "outputs": [
    {
     "name": "stdout",
     "output_type": "stream",
     "text": [
      "0         13646.48\n",
      "1         13658.75\n",
      "2         13610.22\n",
      "3         13639.09\n",
      "4          13620.0\n",
      "            ...   \n",
      "129535     6922.56\n",
      "129536     6920.32\n",
      "129537     6934.72\n",
      "129538     6927.65\n",
      "129539     6928.01\n",
      "Name: Close, Length: 129540, dtype: object\n"
     ]
    }
   ],
   "source": [
    "print(bitstamp.loc[:,\"Close\"]) #I got all the values from Close and only see the values from Close because I put \"Close\" after the comma"
   ]
  },
  {
   "cell_type": "code",
   "execution_count": 21,
   "id": "500b3848-2037-45e6-9b7a-e94d8afc715f",
   "metadata": {},
   "outputs": [
    {
     "name": "stdout",
     "output_type": "stream",
     "text": [
      "0         2018-01-01 00:00:00\n",
      "1         2018-01-01 00:01:00\n",
      "2         2018-01-01 00:02:00\n",
      "3         2018-01-01 00:03:00\n",
      "4         2018-01-01 00:04:00\n",
      "                 ...         \n",
      "129535    2018-03-31 23:55:00\n",
      "129536    2018-03-31 23:56:00\n",
      "129537    2018-03-31 23:57:00\n",
      "129538    2018-03-31 23:58:00\n",
      "129539    2018-03-31 23:59:00\n",
      "Name: Timestamp, Length: 129540, dtype: object\n"
     ]
    }
   ],
   "source": [
    "print(coinbase.loc[:,\"Timestamp\"]) #I repeated the process from above but now with the cinbase dataframe"
   ]
  },
  {
   "cell_type": "code",
   "execution_count": 22,
   "id": "bcbee4f3-7c43-475c-89ff-079dd5a51258",
   "metadata": {},
   "outputs": [
    {
     "name": "stdout",
     "output_type": "stream",
     "text": [
      "             Timestamp      Open      High       Low     Close  BTC Volume  \\\n",
      "0  2018-01-01 00:00:00  13620.00  13620.00  13608.49  13608.49   20.812754   \n",
      "2  2018-01-01 00:02:00  13601.44  13601.44  13580.00   13580.0   11.536360   \n",
      "4  2018-01-01 00:04:00  13550.34  13585.95  13550.34  13583.44    9.955364   \n",
      "6  2018-01-01 00:06:00  13583.28  13583.28  13510.59   13539.0   25.791324   \n",
      "\n",
      "     USD Volume  Weighted Price  \n",
      "0  283451.08537    13619.105106  \n",
      "2  156789.19686    13590.872506  \n",
      "4  135141.26944    13574.719401  \n",
      "6  349096.11367    13535.409019  \n"
     ]
    }
   ],
   "source": [
    "print(coinbase.iloc[[0,2,4,6]]) #all the information given is now from coinbase "
   ]
  },
  {
   "cell_type": "code",
   "execution_count": 23,
   "id": "1fcbc139-d628-4583-8610-7c384c5f7931",
   "metadata": {},
   "outputs": [
    {
     "name": "stdout",
     "output_type": "stream",
     "text": [
      "0    13608.49\n",
      "1    13601.66\n",
      "2     13580.0\n",
      "3    13550.34\n",
      "4    13583.44\n",
      "5    13564.35\n",
      "6     13539.0\n",
      "7    13511.02\n",
      "Name: Close, dtype: object\n"
     ]
    }
   ],
   "source": [
    "print(coinbase.loc[0:7,\"Close\"]) #I now saw if my code still worked with a different value, so I wanted to try an see the first 8 values while still only looking at \"Close\""
   ]
  },
  {
   "cell_type": "code",
   "execution_count": 24,
   "id": "61783ab2-9b01-4645-9198-0f1c7f6fb117",
   "metadata": {},
   "outputs": [
    {
     "data": {
      "text/plain": [
       "<bound method NDFrame.describe of                   Timestamp      Open      High       Low     Close  \\\n",
       "0       2018-01-01 00:00:00  13620.00  13620.00  13608.49  13608.49   \n",
       "1       2018-01-01 00:01:00  13607.14  13607.14  13601.66  13601.66   \n",
       "2       2018-01-01 00:02:00  13601.44  13601.44  13580.00   13580.0   \n",
       "3       2018-01-01 00:03:00  13587.31  13587.31  13542.70  13550.34   \n",
       "4       2018-01-01 00:04:00  13550.34  13585.95  13550.34  13583.44   \n",
       "...                     ...       ...       ...       ...       ...   \n",
       "129535  2018-03-31 23:55:00   6945.20   6948.06   6930.00    6930.0   \n",
       "129536  2018-03-31 23:56:00   6930.00   6930.01   6930.00   6930.01   \n",
       "129537  2018-03-31 23:57:00   6930.01   6933.91   6930.01   6933.91   \n",
       "129538  2018-03-31 23:58:00   6933.91   6938.00   6933.90   6937.31   \n",
       "129539  2018-03-31 23:59:00   6937.30   6937.30   6931.09    6934.0   \n",
       "\n",
       "        BTC Volume     USD Volume  Weighted Price  \n",
       "0        20.812754  283451.085370    13619.105106  \n",
       "1        13.474359  183283.978010    13602.426919  \n",
       "2        11.536360  156789.196860    13590.872506  \n",
       "3        16.328039  221413.641820    13560.332806  \n",
       "4         9.955364  135141.269440    13574.719401  \n",
       "...            ...            ...             ...  \n",
       "129535    5.802288   40243.918480     6935.869979  \n",
       "129536    0.625053    4331.620701     6930.005567  \n",
       "129537    0.776431    5382.532162     6932.405747  \n",
       "129538    0.133413     925.356547     6936.048538  \n",
       "129539    1.012720    7022.275088     6934.070316  \n",
       "\n",
       "[129540 rows x 8 columns]>"
      ]
     },
     "execution_count": 24,
     "metadata": {},
     "output_type": "execute_result"
    }
   ],
   "source": [
    "coinbase.describe #what .describe does is give a summary of the dataframe that the function was given"
   ]
  },
  {
   "cell_type": "code",
   "execution_count": 25,
   "id": "cc69e243-a0d5-420f-8970-e2b8d9d254d6",
   "metadata": {},
   "outputs": [
    {
     "data": {
      "text/plain": [
       "<bound method NDFrame.describe of                   Timestamp      Open      High       Low     Close  \\\n",
       "0       2018-01-01 00:00:00  13681.04  13681.04  13637.93  13646.48   \n",
       "1       2018-01-01 00:01:00  13646.48  13658.75  13610.18  13658.75   \n",
       "2       2018-01-01 00:02:00  13616.93  13616.93  13610.06  13610.22   \n",
       "3       2018-01-01 00:03:00  13610.27  13639.09  13610.27  13639.09   \n",
       "4       2018-01-01 00:04:00  13635.35  13636.35  13620.00   13620.0   \n",
       "...                     ...       ...       ...       ...       ...   \n",
       "129535  2018-03-31 23:55:00   6935.01   6939.07   6922.56   6922.56   \n",
       "129536  2018-03-31 23:56:00   6922.02   6922.02   6918.00   6920.32   \n",
       "129537  2018-03-31 23:57:00   6920.33   6936.42   6920.33   6934.72   \n",
       "129538  2018-03-31 23:58:00   6927.65   6929.42   6927.65   6927.65   \n",
       "129539  2018-03-31 23:59:00   6929.98   6929.98   6928.00   6928.01   \n",
       "\n",
       "        BTC Volume     USD Volume  Weighted Price  \n",
       "0         3.334553   45482.128785    13639.647479  \n",
       "1         2.663188   36361.390888    13653.332816  \n",
       "2         0.084653    1152.144036    13610.136247  \n",
       "3         7.182986   97856.416478    13623.361128  \n",
       "4         1.069665   14582.660932    13632.923329  \n",
       "...            ...            ...             ...  \n",
       "129535    1.044354    7240.034602     6932.550078  \n",
       "129536    3.069539   21245.076275     6921.260233  \n",
       "129537   28.239049  195789.408220     6933.286106  \n",
       "129538    0.839507    5817.007705     6929.080007  \n",
       "129539    0.209363    1450.735763     6929.289993  \n",
       "\n",
       "[129540 rows x 8 columns]>"
      ]
     },
     "execution_count": 25,
     "metadata": {},
     "output_type": "execute_result"
    }
   ],
   "source": [
    "bitstamp.describe  #I was able to repeat the process with bitstamp"
   ]
  },
  {
   "cell_type": "code",
   "execution_count": 47,
   "id": "b96cdb54-98dd-43a9-a099-1245d6917ca9",
   "metadata": {},
   "outputs": [
    {
     "data": {
      "text/plain": [
       "<AxesSubplot:>"
      ]
     },
     "execution_count": 47,
     "metadata": {},
     "output_type": "execute_result"
    },
    {
     "data": {
      "image/png": "[encoded data removed]",
      "text/plain": [
       "<Figure size 432x288 with 1 Axes>"
      ]
     },
     "metadata": {
      "needs_background": "light"
     },
     "output_type": "display_data"
    },
    {
     "data": {
      "image/png": "[encoded data removed]",
      "text/plain": [
       "<Figure size 432x288 with 1 Axes>"
      ]
     },
     "metadata": {
      "needs_background": "light"
     },
     "output_type": "display_data"
    }
   ],
   "source": [
    "coinbase.loc[0:1440,['High']].plot()  #using the plot function, I was able to plot all the values from the 'High' column \n",
    "bitstamp.loc[0:1440,['High']].plot()  #because I set my time frame from 0 to 1440, this only plotted the first day as there is 1440 minutes in a day"
   ]
  },
  {
   "cell_type": "code",
   "execution_count": 50,
   "id": "e3afc3dc-beec-43b7-9b0d-130845c39f67",
   "metadata": {},
   "outputs": [
    {
     "data": {
      "text/plain": [
       "<AxesSubplot:>"
      ]
     },
     "execution_count": 50,
     "metadata": {},
     "output_type": "execute_result"
    },
    {
     "data": {
      "image/png": "[encoded data removed]",
      "text/plain": [
       "<Figure size 432x288 with 1 Axes>"
      ]
     },
     "metadata": {
      "needs_background": "light"
     },
     "output_type": "display_data"
    }
   ],
   "source": [
    "arb = (bitstamp.loc[0:1440,['High']] - coinbase.loc[0:1440,['High']]).abs()   #using the abs function, I was able to calculate the the difference in arbitrage for both the exchanges\n",
    "arb.plot()"
   ]
  },
  {
   "cell_type": "code",
   "execution_count": 51,
   "id": "5492429d-04fd-4089-90bf-16530cafff20",
   "metadata": {},
   "outputs": [
    {
     "data": {
      "text/plain": [
       "<AxesSubplot:>"
      ]
     },
     "execution_count": 51,
     "metadata": {},
     "output_type": "execute_result"
    },
    {
     "data": {
      "image/png": "[encoded data removed]",
      "text/plain": [
       "<Figure size 432x288 with 1 Axes>"
      ]
     },
     "metadata": {
      "needs_background": "light"
     },
     "output_type": "display_data"
    }
   ],
   "source": [
    "arb2 = (bitstamp.loc[43200:1440+43200,['High']] - coinbase.loc[43200:1440+43200,['High']]).abs()  #I repeated this process 3 times using 3 different dates\n",
    "arb2.plot()"
   ]
  },
  {
   "cell_type": "code",
   "execution_count": 52,
   "id": "bb83688d-fbff-446a-9a4b-d0e46c10b465",
   "metadata": {},
   "outputs": [
    {
     "data": {
      "text/plain": [
       "<AxesSubplot:>"
      ]
     },
     "execution_count": 52,
     "metadata": {},
     "output_type": "execute_result"
    },
    {
     "data": {
      "image/png": "[encoded data removed]",
      "text/plain": [
       "<Figure size 432x288 with 1 Axes>"
      ]
     },
     "metadata": {
      "needs_background": "light"
     },
     "output_type": "display_data"
    }
   ],
   "source": [
    "arb3 = (bitstamp.loc[86400:1440+86400,['High']] - coinbase.loc[86400:1440+86400,['High']]).abs()\n",
    "arb3.plot()"
   ]
  },
  {
   "cell_type": "code",
   "execution_count": 55,
   "id": "e7b409c8-180e-4fc9-8411-6a813dda9782",
   "metadata": {},
   "outputs": [
    {
     "name": "stdout",
     "output_type": "stream",
     "text": [
      "[[[[61.04]\n",
      "   [51.61]\n",
      "   [15.49]\n",
      "   ...\n",
      "   [68.4 ]\n",
      "   [36.55]\n",
      "   [11.63]]]\n",
      "\n",
      "\n",
      " [[[11.  ]\n",
      "   [11.11]\n",
      "   [25.98]\n",
      "   ...\n",
      "   [63.22]\n",
      "   [59.58]\n",
      "   [  nan]]]\n",
      "\n",
      "\n",
      " [[[ 1.97]\n",
      "   [12.63]\n",
      "   [ 2.72]\n",
      "   ...\n",
      "   [11.5 ]\n",
      "   [ 4.51]\n",
      "   [11.5 ]]]]\n"
     ]
    }
   ],
   "source": [
    "import numpy as ave      # What I wrote should now calculate the average arbitrage between all the 3 days we choose\n",
    "ina = ave.array([[arb],[arb2],[arb3]])\n",
    "yee = ave.cumsum(ina , axis =1)\n",
    "print(yee)"
   ]
  },
  {
   "cell_type": "code",
   "execution_count": 59,
   "id": "420eee55-5d06-4328-bd20-60b6a677e74e",
   "metadata": {},
   "outputs": [],
   "source": [
    "def calc_arb(day, coinbase_df, bitstamp_df):         #this code tries to calcuate the average using any day you want to pick by creating a function called calc_arb\n",
    "    start_i = 0 + 1440 * day\n",
    "    end_i = start_i + 1440\n",
    "    if coinbase_df.loc[start_i:end_i].sum() >  bitstamp_df.loc[start_i:end_i].sum():\n",
    "        (coinbase_df.loc[start_i : end_i, [\"High\"]] - bitstamp_df.loc[start_i : end_i, [\"High\"]]).plot()\n",
    "    else:\n",
    "        (bitstamp_df.loc[start_i : end_i, [\"High\"]] - coinbase_df.loc[start_i : end_i, [\"High\"]]).plot()"
   ]
  },
  {
   "cell_type": "code",
   "execution_count": 60,
   "id": "ecba9fd4-eaef-417b-8ada-9550e3fb871e",
   "metadata": {},
   "outputs": [
    {
     "ename": "ValueError",
     "evalue": "The truth value of a Series is ambiguous. Use a.empty, a.bool(), a.item(), a.any() or a.all().",
     "output_type": "error",
     "traceback": [
      "\u001b[1;31m---------------------------------------------------------------------------\u001b[0m",
      "\u001b[1;31mValueError\u001b[0m                                Traceback (most recent call last)",
      "\u001b[1;32m~\\AppData\\Local\\Temp\\ipykernel_14648\\387325724.py\u001b[0m in \u001b[0;36m<cell line: 1>\u001b[1;34m()\u001b[0m\n\u001b[1;32m----> 1\u001b[1;33m \u001b[0mcalc_arb\u001b[0m\u001b[1;33m(\u001b[0m\u001b[1;36m3\u001b[0m\u001b[1;33m,\u001b[0m\u001b[0mcoinbase\u001b[0m\u001b[1;33m,\u001b[0m \u001b[0mbitstamp\u001b[0m\u001b[1;33m)\u001b[0m\u001b[1;33m\u001b[0m\u001b[1;33m\u001b[0m\u001b[0m\n\u001b[0m",
      "\u001b[1;32m~\\AppData\\Local\\Temp\\ipykernel_14648\\4071993766.py\u001b[0m in \u001b[0;36mcalc_arb\u001b[1;34m(day, coinbase_df, bitstamp_df)\u001b[0m\n\u001b[0;32m      2\u001b[0m     \u001b[0mstart_i\u001b[0m \u001b[1;33m=\u001b[0m \u001b[1;36m0\u001b[0m \u001b[1;33m+\u001b[0m \u001b[1;36m1440\u001b[0m \u001b[1;33m*\u001b[0m \u001b[0mday\u001b[0m\u001b[1;33m\u001b[0m\u001b[1;33m\u001b[0m\u001b[0m\n\u001b[0;32m      3\u001b[0m     \u001b[0mend_i\u001b[0m \u001b[1;33m=\u001b[0m \u001b[0mstart_i\u001b[0m \u001b[1;33m+\u001b[0m \u001b[1;36m1440\u001b[0m\u001b[1;33m\u001b[0m\u001b[1;33m\u001b[0m\u001b[0m\n\u001b[1;32m----> 4\u001b[1;33m     \u001b[1;32mif\u001b[0m \u001b[0mcoinbase_df\u001b[0m\u001b[1;33m.\u001b[0m\u001b[0mloc\u001b[0m\u001b[1;33m[\u001b[0m\u001b[0mstart_i\u001b[0m\u001b[1;33m:\u001b[0m\u001b[0mend_i\u001b[0m\u001b[1;33m]\u001b[0m\u001b[1;33m.\u001b[0m\u001b[0msum\u001b[0m\u001b[1;33m(\u001b[0m\u001b[1;33m)\u001b[0m \u001b[1;33m>\u001b[0m  \u001b[0mbitstamp_df\u001b[0m\u001b[1;33m.\u001b[0m\u001b[0mloc\u001b[0m\u001b[1;33m[\u001b[0m\u001b[0mstart_i\u001b[0m\u001b[1;33m:\u001b[0m\u001b[0mend_i\u001b[0m\u001b[1;33m]\u001b[0m\u001b[1;33m.\u001b[0m\u001b[0msum\u001b[0m\u001b[1;33m(\u001b[0m\u001b[1;33m)\u001b[0m\u001b[1;33m:\u001b[0m\u001b[1;33m\u001b[0m\u001b[1;33m\u001b[0m\u001b[0m\n\u001b[0m\u001b[0;32m      5\u001b[0m         \u001b[1;33m(\u001b[0m\u001b[0mcoinbase_df\u001b[0m\u001b[1;33m.\u001b[0m\u001b[0mloc\u001b[0m\u001b[1;33m[\u001b[0m\u001b[0mstart_i\u001b[0m \u001b[1;33m:\u001b[0m \u001b[0mend_i\u001b[0m\u001b[1;33m,\u001b[0m \u001b[1;33m[\u001b[0m\u001b[1;34m\"High\"\u001b[0m\u001b[1;33m]\u001b[0m\u001b[1;33m]\u001b[0m \u001b[1;33m-\u001b[0m \u001b[0mbitstamp_df\u001b[0m\u001b[1;33m.\u001b[0m\u001b[0mloc\u001b[0m\u001b[1;33m[\u001b[0m\u001b[0mstart_i\u001b[0m \u001b[1;33m:\u001b[0m \u001b[0mend_i\u001b[0m\u001b[1;33m,\u001b[0m \u001b[1;33m[\u001b[0m\u001b[1;34m\"High\"\u001b[0m\u001b[1;33m]\u001b[0m\u001b[1;33m]\u001b[0m\u001b[1;33m)\u001b[0m\u001b[1;33m.\u001b[0m\u001b[0mplot\u001b[0m\u001b[1;33m(\u001b[0m\u001b[1;33m)\u001b[0m\u001b[1;33m\u001b[0m\u001b[1;33m\u001b[0m\u001b[0m\n\u001b[0;32m      6\u001b[0m     \u001b[1;32melse\u001b[0m\u001b[1;33m:\u001b[0m\u001b[1;33m\u001b[0m\u001b[1;33m\u001b[0m\u001b[0m\n",
      "\u001b[1;32m~\\anaconda3\\envs\\dev\\lib\\site-packages\\pandas\\core\\generic.py\u001b[0m in \u001b[0;36m__nonzero__\u001b[1;34m(self)\u001b[0m\n\u001b[0;32m   1525\u001b[0m     \u001b[1;33m@\u001b[0m\u001b[0mfinal\u001b[0m\u001b[1;33m\u001b[0m\u001b[1;33m\u001b[0m\u001b[0m\n\u001b[0;32m   1526\u001b[0m     \u001b[1;32mdef\u001b[0m \u001b[0m__nonzero__\u001b[0m\u001b[1;33m(\u001b[0m\u001b[0mself\u001b[0m\u001b[1;33m)\u001b[0m\u001b[1;33m:\u001b[0m\u001b[1;33m\u001b[0m\u001b[1;33m\u001b[0m\u001b[0m\n\u001b[1;32m-> 1527\u001b[1;33m         raise ValueError(\n\u001b[0m\u001b[0;32m   1528\u001b[0m             \u001b[1;34mf\"The truth value of a {type(self).__name__} is ambiguous. \"\u001b[0m\u001b[1;33m\u001b[0m\u001b[1;33m\u001b[0m\u001b[0m\n\u001b[0;32m   1529\u001b[0m             \u001b[1;34m\"Use a.empty, a.bool(), a.item(), a.any() or a.all().\"\u001b[0m\u001b[1;33m\u001b[0m\u001b[1;33m\u001b[0m\u001b[0m\n",
      "\u001b[1;31mValueError\u001b[0m: The truth value of a Series is ambiguous. Use a.empty, a.bool(), a.item(), a.any() or a.all()."
     ]
    }
   ],
   "source": [
    "calc_arb(3,coinbase, bitstamp)"
   ]
  },
  {
   "cell_type": "code",
   "execution_count": null,
   "id": "7359bd68-037e-4661-b579-4bf74e51e07d",
   "metadata": {},
   "outputs": [],
   "source": []
  }
 ],
 "metadata": {
  "kernelspec": {
   "display_name": "Python 3 (ipykernel)",
   "language": "python",
   "name": "python3"
  },
  "language_info": {
   "codemirror_mode": {
    "name": "ipython",
    "version": 3
   },
   "file_extension": ".py",
   "mimetype": "text/x-python",
   "name": "python",
   "nbconvert_exporter": "python",
   "pygments_lexer": "ipython3",
   "version": "3.9.13"
  }
 },
 "nbformat": 4,
 "nbformat_minor": 5
}
